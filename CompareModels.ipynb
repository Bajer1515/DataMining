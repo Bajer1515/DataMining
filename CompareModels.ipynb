{
 "cells": [
  {
   "cell_type": "code",
   "execution_count": 1,
   "metadata": {},
   "outputs": [],
   "source": [
    "import pandas as pd\n",
    "import numpy as np\n",
    "import matplotlib.pyplot as plt\n",
    "\n",
    "from sklearn.tree import DecisionTreeClassifier\n",
    "from sklearn.neighbors import KNeighborsClassifier\n",
    "from sklearn import model_selection\n",
    "\n",
    "from sklearn.metrics import accuracy_score, log_loss, confusion_matrix\n",
    "\n",
    "from patsy import dmatrices\n",
    "\n",
    "%matplotlib inline"
   ]
  },
  {
   "cell_type": "code",
   "execution_count": 2,
   "metadata": {},
   "outputs": [],
   "source": [
    "df = pd.read_csv(\"Credit.csv\")"
   ]
  },
  {
   "cell_type": "code",
   "execution_count": 3,
   "metadata": {},
   "outputs": [
    {
     "data": {
      "text/plain": [
       "Index(['Unnamed: 0', 'Income', 'Limit', 'Rating', 'Cards', 'Age', 'Education',\n",
       "       'Gender', 'Student', 'Married', 'Ethnicity', 'Balance'],\n",
       "      dtype='object')"
      ]
     },
     "execution_count": 3,
     "metadata": {},
     "output_type": "execute_result"
    }
   ],
   "source": [
    "df.columns"
   ]
  },
  {
   "cell_type": "code",
   "execution_count": 4,
   "metadata": {},
   "outputs": [],
   "source": [
    "def compareModels(Y, X,n_neighbors=5, max_depth=None):\n",
    "    models = [\n",
    "        ('KNN', KNeighborsClassifier(n_neighbors=n_neighbors)),\n",
    "        ('DT', DecisionTreeClassifier(max_depth=max_depth))\n",
    "             ]\n",
    "    results = []\n",
    "    names = []\n",
    "    scoring = 'accuracy'\n",
    "    seed=4\n",
    "    \n",
    "    results = []\n",
    "\n",
    "    for name, model in models:\n",
    "        kfold = model_selection.KFold(n_splits=10, random_state=seed)\n",
    "        cv_results = model_selection.cross_val_score(model, X, Y, cv=kfold, scoring=scoring)\n",
    "        #results.append(cv_results)\n",
    "        names.append(name)\n",
    "        #print(\"%s: %f (%f)\" % (name, cv_results.mean(), cv_results.std()))\n",
    "        results.append((n_neighbors, max_depth, cv_results.mean()))\n",
    "    return results"
   ]
  },
  {
   "cell_type": "code",
   "execution_count": 5,
   "metadata": {},
   "outputs": [],
   "source": [
    "df['IncomeGreaterThan50'] = [1 if x > 50 else 0 for x in df['Income']]"
   ]
  },
  {
   "cell_type": "code",
   "execution_count": 6,
   "metadata": {},
   "outputs": [],
   "source": [
    "def prepDataSet(model_formula): \n",
    "    Y, X = dmatrices(model_formula, data=df, return_type='dataframe')\n",
    "    Y = np.array(Y).reshape(len(Y),)\n",
    "    return Y, X"
   ]
  },
  {
   "cell_type": "code",
   "execution_count": 7,
   "metadata": {},
   "outputs": [
    {
     "name": "stdout",
     "output_type": "stream",
     "text": [
      "Income greater than 50\n"
     ]
    }
   ],
   "source": [
    "print('Income greater than 50')\n",
    "Y, X = prepDataSet('IncomeGreaterThan50 ~ Limit + Balance + Rating + Education')\n",
    "#compareModels(Y, X)"
   ]
  },
  {
   "cell_type": "code",
   "execution_count": 8,
   "metadata": {},
   "outputs": [
    {
     "name": "stdout",
     "output_type": "stream",
     "text": [
      "KNN:  (1, 1, 0.9400000000000001)\n",
      "DT:  (46, 46, 0.85)\n"
     ]
    }
   ],
   "source": [
    "results = []\n",
    "for nn, maxDepth in zip(range(1,50), range(1,50)):\n",
    "    results.append(compareModels(Y,X,nn,maxDepth))\n",
    "print(\"KNN: \",max(results, key=lambda el: el[0][2])[0])\n",
    "print(\"DT: \",max(results, key=lambda el: el[1][2])[0])"
   ]
  },
  {
   "cell_type": "code",
   "execution_count": 9,
   "metadata": {},
   "outputs": [
    {
     "name": "stdout",
     "output_type": "stream",
     "text": [
      "\n",
      "# of cards\n"
     ]
    },
    {
     "data": {
      "text/plain": [
       "[(12, 5, 0.24749999999999997), (12, 5, 0.2475)]"
      ]
     },
     "execution_count": 9,
     "metadata": {},
     "output_type": "execute_result"
    }
   ],
   "source": [
    "print('\\n# of cards')\n",
    "Y, X = prepDataSet('Cards ~ Gender + Ethnicity')\n",
    "compareModels(Y, X,12,5)"
   ]
  },
  {
   "cell_type": "code",
   "execution_count": 11,
   "metadata": {
    "scrolled": true
   },
   "outputs": [
    {
     "data": {
      "text/plain": [
       "[[(1, 1, 0.9400000000000001), (1, 1, 0.85)],\n",
       " [(2, 2, 0.9375), (2, 2, 0.85)],\n",
       " [(3, 3, 0.9375), (3, 3, 0.8899999999999999)],\n",
       " [(4, 4, 0.9349999999999999), (4, 4, 0.885)],\n",
       " [(5, 5, 0.9375), (5, 5, 0.9199999999999999)],\n",
       " [(6, 6, 0.9225), (6, 6, 0.9125)],\n",
       " [(7, 7, 0.9275), (7, 7, 0.9125)],\n",
       " [(8, 8, 0.9299999999999999), (8, 8, 0.9225)],\n",
       " [(9, 9, 0.9275), (9, 9, 0.9199999999999999)],\n",
       " [(10, 10, 0.9200000000000002), (10, 10, 0.9199999999999999)],\n",
       " [(11, 11, 0.915), (11, 11, 0.9175000000000001)],\n",
       " [(12, 12, 0.9125), (12, 12, 0.9199999999999999)],\n",
       " [(13, 13, 0.9174999999999999), (13, 13, 0.9249999999999998)],\n",
       " [(14, 14, 0.9125), (14, 14, 0.9274999999999999)],\n",
       " [(15, 15, 0.9149999999999998), (15, 15, 0.9124999999999999)],\n",
       " [(16, 16, 0.9025000000000002), (16, 16, 0.9199999999999999)],\n",
       " [(17, 17, 0.9025000000000001), (17, 17, 0.9199999999999999)],\n",
       " [(18, 18, 0.8975000000000002), (18, 18, 0.9075)],\n",
       " [(19, 19, 0.9025000000000001), (19, 19, 0.9175000000000001)],\n",
       " [(20, 20, 0.8925000000000001), (20, 20, 0.9199999999999999)],\n",
       " [(21, 21, 0.8975000000000002), (21, 21, 0.9199999999999999)],\n",
       " [(22, 22, 0.89), (22, 22, 0.9199999999999999)],\n",
       " [(23, 23, 0.8875), (23, 23, 0.9149999999999998)],\n",
       " [(24, 24, 0.8825), (24, 24, 0.9199999999999999)],\n",
       " [(25, 25, 0.885), (25, 25, 0.9199999999999999)],\n",
       " [(26, 26, 0.8725000000000002), (26, 26, 0.9225)],\n",
       " [(27, 27, 0.8799999999999999), (27, 27, 0.9199999999999999)],\n",
       " [(28, 28, 0.8675), (28, 28, 0.9174999999999999)],\n",
       " [(29, 29, 0.8699999999999999), (29, 29, 0.9199999999999999)],\n",
       " [(30, 30, 0.8574999999999999), (30, 30, 0.9174999999999999)],\n",
       " [(31, 31, 0.8649999999999999), (31, 31, 0.9125)],\n",
       " [(32, 32, 0.8525), (32, 32, 0.9225)],\n",
       " [(33, 33, 0.86), (33, 33, 0.925)],\n",
       " [(34, 34, 0.8550000000000001), (34, 34, 0.9199999999999999)],\n",
       " [(35, 35, 0.8574999999999999), (35, 35, 0.9199999999999999)],\n",
       " [(36, 36, 0.8525), (36, 36, 0.9225)],\n",
       " [(37, 37, 0.8549999999999999), (37, 37, 0.9199999999999999)],\n",
       " [(38, 38, 0.8525), (38, 38, 0.925)],\n",
       " [(39, 39, 0.8525), (39, 39, 0.9199999999999999)],\n",
       " [(40, 40, 0.8525), (40, 40, 0.9199999999999999)],\n",
       " [(41, 41, 0.8525), (41, 41, 0.9199999999999999)],\n",
       " [(42, 42, 0.85), (42, 42, 0.9199999999999999)],\n",
       " [(43, 43, 0.8525), (43, 43, 0.9225)],\n",
       " [(44, 44, 0.8525), (44, 44, 0.9199999999999999)],\n",
       " [(45, 45, 0.8525), (45, 45, 0.9124999999999999)],\n",
       " [(46, 46, 0.85), (46, 46, 0.9299999999999999)],\n",
       " [(47, 47, 0.85), (47, 47, 0.915)],\n",
       " [(48, 48, 0.8474999999999999), (48, 48, 0.9175000000000001)],\n",
       " [(49, 49, 0.8474999999999999), (49, 49, 0.9125)]]"
      ]
     },
     "execution_count": 11,
     "metadata": {},
     "output_type": "execute_result"
    }
   ],
   "source": [
    "results"
   ]
  },
  {
   "cell_type": "code",
   "execution_count": null,
   "metadata": {},
   "outputs": [],
   "source": []
  },
  {
   "cell_type": "code",
   "execution_count": null,
   "metadata": {},
   "outputs": [],
   "source": []
  }
 ],
 "metadata": {
  "kernelspec": {
   "display_name": "Python 3",
   "language": "python",
   "name": "python3"
  },
  "language_info": {
   "codemirror_mode": {
    "name": "ipython",
    "version": 3
   },
   "file_extension": ".py",
   "mimetype": "text/x-python",
   "name": "python",
   "nbconvert_exporter": "python",
   "pygments_lexer": "ipython3",
   "version": "3.7.3"
  }
 },
 "nbformat": 4,
 "nbformat_minor": 2
}
