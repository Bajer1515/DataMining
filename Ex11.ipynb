{
 "cells": [
  {
   "cell_type": "code",
   "execution_count": 1,
   "metadata": {},
   "outputs": [],
   "source": [
    "import pandas as pd\n",
    "import numpy as np \n",
    "import matplotlib.pyplot as plt \n",
    "import statsmodels.api as sm\n",
    "from patsy import dmatrices\n",
    "%matplotlib inline"
   ]
  },
  {
   "cell_type": "markdown",
   "metadata": {},
   "source": [
    "# Import data #"
   ]
  },
  {
   "cell_type": "code",
   "execution_count": 2,
   "metadata": {
    "scrolled": false
   },
   "outputs": [
    {
     "data": {
      "text/plain": [
       "Index(['mpg', 'cylinders', 'displacement', 'horsepower', 'weight',\n",
       "       'acceleration', 'year', 'origin', 'name'],\n",
       "      dtype='object')"
      ]
     },
     "execution_count": 2,
     "metadata": {},
     "output_type": "execute_result"
    }
   ],
   "source": [
    "df = pd.read_csv(\"Auto.csv\")\n",
    "df.columns"
   ]
  },
  {
   "cell_type": "markdown",
   "metadata": {},
   "source": [
    "# Train model with year as a numerical variables #"
   ]
  },
  {
   "cell_type": "code",
   "execution_count": 3,
   "metadata": {
    "scrolled": false
   },
   "outputs": [],
   "source": [
    "y, X = dmatrices('mpg ~ year', data=df, return_type='dataframe')\n",
    "model = sm.OLS(y,X)\n",
    "result = model.fit()"
   ]
  },
  {
   "cell_type": "code",
   "execution_count": 4,
   "metadata": {},
   "outputs": [
    {
     "data": {
      "image/png": "[encoded data removed]",
      "text/plain": [
       "<Figure size 432x288 with 1 Axes>"
      ]
     },
     "metadata": {
      "needs_background": "light"
     },
     "output_type": "display_data"
    }
   ],
   "source": [
    "ax = df.plot(x='year', y='mpg', kind='scatter')\n",
    "\n",
    "p = result.params\n",
    "x = np.arange(65,85,1)\n",
    "ax = ax.plot(x, p.Intercept + p.year * x, 'r')"
   ]
  },
  {
   "cell_type": "markdown",
   "metadata": {},
   "source": [
    "# 2. Treating year as a categorical variable #"
   ]
  },
  {
   "cell_type": "code",
   "execution_count": 5,
   "metadata": {},
   "outputs": [],
   "source": [
    "df['mpg'] = (df['mpg'] - df['mpg'].min())/(df['mpg'].max() - df['mpg'].min())"
   ]
  },
  {
   "cell_type": "code",
   "execution_count": 6,
   "metadata": {},
   "outputs": [
    {
     "name": "stdout",
     "output_type": "stream",
     "text": [
      "Optimization terminated successfully.\n",
      "         Current function value: 0.577718\n",
      "         Iterations 5\n"
     ]
    },
    {
     "data": {
      "text/html": [
       "<table class=\"simpletable\">\n",
       "<tr>\n",
       "        <td>Model:</td>              <td>Logit</td>      <td>Pseudo R-squared:</td>  <td>-0.019</td> \n",
       "</tr>\n",
       "<tr>\n",
       "  <td>Dependent Variable:</td>        <td>mpg</td>             <td>AIC:</td>        <td>484.7079</td>\n",
       "</tr>\n",
       "<tr>\n",
       "         <td>Date:</td>        <td>2020-01-21 17:40</td>       <td>BIC:</td>        <td>536.4991</td>\n",
       "</tr>\n",
       "<tr>\n",
       "   <td>No. Observations:</td>         <td>397</td>        <td>Log-Likelihood:</td>   <td>-229.35</td>\n",
       "</tr>\n",
       "<tr>\n",
       "       <td>Df Model:</td>             <td>12</td>            <td>LL-Null:</td>       <td>-225.13</td>\n",
       "</tr>\n",
       "<tr>\n",
       "     <td>Df Residuals:</td>           <td>384</td>         <td>LLR p-value:</td>     <td>1.0000</td> \n",
       "</tr>\n",
       "<tr>\n",
       "      <td>Converged:</td>           <td>1.0000</td>           <td>Scale:</td>        <td>1.0000</td> \n",
       "</tr>\n",
       "<tr>\n",
       "    <td>No. Iterations:</td>        <td>5.0000</td>              <td></td>              <td></td>    \n",
       "</tr>\n",
       "</table>\n",
       "<table class=\"simpletable\">\n",
       "<tr>\n",
       "        <td></td>         <th>Coef.</th>  <th>Std.Err.</th>    <th>z</th>     <th>P>|z|</th> <th>[0.025</th>  <th>0.975]</th> \n",
       "</tr>\n",
       "<tr>\n",
       "  <th>Intercept</th>     <td>-1.2021</td>  <td>0.4405</td>  <td>-2.7288</td> <td>0.0064</td> <td>-2.0655</td> <td>-0.3387</td>\n",
       "</tr>\n",
       "<tr>\n",
       "  <th>C(year)[T.71]</th> <td>0.4748</td>   <td>0.5972</td>  <td>0.7951</td>  <td>0.4266</td> <td>-0.6957</td> <td>1.6453</td> \n",
       "</tr>\n",
       "<tr>\n",
       "  <th>C(year)[T.72]</th> <td>0.1475</td>   <td>0.6168</td>  <td>0.2392</td>  <td>0.8109</td> <td>-1.0614</td> <td>1.3565</td> \n",
       "</tr>\n",
       "<tr>\n",
       "  <th>C(year)[T.73]</th> <td>-0.0905</td>  <td>0.5848</td>  <td>-0.1547</td> <td>0.8771</td> <td>-1.2366</td> <td>1.0557</td> \n",
       "</tr>\n",
       "<tr>\n",
       "  <th>C(year)[T.74]</th> <td>0.6460</td>   <td>0.5949</td>  <td>1.0858</td>  <td>0.2775</td> <td>-0.5200</td> <td>1.8121</td> \n",
       "</tr>\n",
       "<tr>\n",
       "  <th>C(year)[T.75]</th> <td>0.3531</td>   <td>0.5940</td>  <td>0.5944</td>  <td>0.5523</td> <td>-0.8112</td> <td>1.5174</td> \n",
       "</tr>\n",
       "<tr>\n",
       "  <th>C(year)[T.76]</th> <td>0.5137</td>   <td>0.5711</td>  <td>0.8995</td>  <td>0.3684</td> <td>-0.6057</td> <td>1.6331</td> \n",
       "</tr>\n",
       "<tr>\n",
       "  <th>C(year)[T.77]</th> <td>0.7223</td>   <td>0.5876</td>  <td>1.2293</td>  <td>0.2190</td> <td>-0.4294</td> <td>1.8740</td> \n",
       "</tr>\n",
       "<tr>\n",
       "  <th>C(year)[T.78]</th> <td>0.7989</td>   <td>0.5565</td>  <td>1.4355</td>  <td>0.1511</td> <td>-0.2919</td> <td>1.8897</td> \n",
       "</tr>\n",
       "<tr>\n",
       "  <th>C(year)[T.79]</th> <td>0.9121</td>   <td>0.5787</td>  <td>1.5761</td>  <td>0.1150</td> <td>-0.2222</td> <td>2.0463</td> \n",
       "</tr>\n",
       "<tr>\n",
       "  <th>C(year)[T.80]</th> <td>1.8512</td>   <td>0.5891</td>  <td>3.1425</td>  <td>0.0017</td> <td>0.6966</td>  <td>3.0058</td> \n",
       "</tr>\n",
       "<tr>\n",
       "  <th>C(year)[T.81]</th> <td>1.4733</td>   <td>0.5784</td>  <td>2.5473</td>  <td>0.0109</td> <td>0.3397</td>  <td>2.6070</td> \n",
       "</tr>\n",
       "<tr>\n",
       "  <th>C(year)[T.82]</th> <td>1.6565</td>   <td>0.5783</td>  <td>2.8647</td>  <td>0.0042</td> <td>0.5232</td>  <td>2.7899</td> \n",
       "</tr>\n",
       "</table>"
      ],
      "text/plain": [
       "<class 'statsmodels.iolib.summary2.Summary'>\n",
       "\"\"\"\n",
       "                        Results: Logit\n",
       "===============================================================\n",
       "Model:              Logit            Pseudo R-squared: -0.019  \n",
       "Dependent Variable: mpg              AIC:              484.7079\n",
       "Date:               2020-01-21 17:40 BIC:              536.4991\n",
       "No. Observations:   397              Log-Likelihood:   -229.35 \n",
       "Df Model:           12               LL-Null:          -225.13 \n",
       "Df Residuals:       384              LLR p-value:      1.0000  \n",
       "Converged:          1.0000           Scale:            1.0000  \n",
       "No. Iterations:     5.0000                                     \n",
       "---------------------------------------------------------------\n",
       "                 Coef.  Std.Err.    z    P>|z|   [0.025  0.975]\n",
       "---------------------------------------------------------------\n",
       "Intercept       -1.2021   0.4405 -2.7288 0.0064 -2.0655 -0.3387\n",
       "C(year)[T.71]    0.4748   0.5972  0.7951 0.4266 -0.6957  1.6453\n",
       "C(year)[T.72]    0.1475   0.6168  0.2392 0.8109 -1.0614  1.3565\n",
       "C(year)[T.73]   -0.0905   0.5848 -0.1547 0.8771 -1.2366  1.0557\n",
       "C(year)[T.74]    0.6460   0.5949  1.0858 0.2775 -0.5200  1.8121\n",
       "C(year)[T.75]    0.3531   0.5940  0.5944 0.5523 -0.8112  1.5174\n",
       "C(year)[T.76]    0.5137   0.5711  0.8995 0.3684 -0.6057  1.6331\n",
       "C(year)[T.77]    0.7223   0.5876  1.2293 0.2190 -0.4294  1.8740\n",
       "C(year)[T.78]    0.7989   0.5565  1.4355 0.1511 -0.2919  1.8897\n",
       "C(year)[T.79]    0.9121   0.5787  1.5761 0.1150 -0.2222  2.0463\n",
       "C(year)[T.80]    1.8512   0.5891  3.1425 0.0017  0.6966  3.0058\n",
       "C(year)[T.81]    1.4733   0.5784  2.5473 0.0109  0.3397  2.6070\n",
       "C(year)[T.82]    1.6565   0.5783  2.8647 0.0042  0.5232  2.7899\n",
       "===============================================================\n",
       "\n",
       "\"\"\""
      ]
     },
     "execution_count": 6,
     "metadata": {},
     "output_type": "execute_result"
    }
   ],
   "source": [
    "y, X = dmatrices('mpg ~ C(year)', data=df, return_type='dataframe')\n",
    "model2 = sm.Logit(y,X)\n",
    "resultCat = model2.fit()\n",
    "resultCat.summary2()"
   ]
  },
  {
   "cell_type": "code",
   "execution_count": 8,
   "metadata": {},
   "outputs": [
    {
     "data": {
      "text/html": [
       "<table class=\"simpletable\">\n",
       "<caption>OLS Regression Results</caption>\n",
       "<tr>\n",
       "  <th>Dep. Variable:</th>           <td>mpg</td>       <th>  R-squared:         </th> <td>   0.338</td>\n",
       "</tr>\n",
       "<tr>\n",
       "  <th>Model:</th>                   <td>OLS</td>       <th>  Adj. R-squared:    </th> <td>   0.336</td>\n",
       "</tr>\n",
       "<tr>\n",
       "  <th>Method:</th>             <td>Least Squares</td>  <th>  F-statistic:       </th> <td>   201.8</td>\n",
       "</tr>\n",
       "<tr>\n",
       "  <th>Date:</th>             <td>Mon, 20 Jan 2020</td> <th>  Prob (F-statistic):</th> <td>2.77e-37</td>\n",
       "</tr>\n",
       "<tr>\n",
       "  <th>Time:</th>                 <td>23:45:22</td>     <th>  Log-Likelihood:    </th> <td> -1297.7</td>\n",
       "</tr>\n",
       "<tr>\n",
       "  <th>No. Observations:</th>      <td>   397</td>      <th>  AIC:               </th> <td>   2599.</td>\n",
       "</tr>\n",
       "<tr>\n",
       "  <th>Df Residuals:</th>          <td>   395</td>      <th>  BIC:               </th> <td>   2607.</td>\n",
       "</tr>\n",
       "<tr>\n",
       "  <th>Df Model:</th>              <td>     1</td>      <th>                     </th>     <td> </td>   \n",
       "</tr>\n",
       "<tr>\n",
       "  <th>Covariance Type:</th>      <td>nonrobust</td>    <th>                     </th>     <td> </td>   \n",
       "</tr>\n",
       "</table>\n",
       "<table class=\"simpletable\">\n",
       "<tr>\n",
       "      <td></td>         <th>coef</th>     <th>std err</th>      <th>t</th>      <th>P>|t|</th>  <th>[0.025</th>    <th>0.975]</th>  \n",
       "</tr>\n",
       "<tr>\n",
       "  <th>Intercept</th> <td>  -70.2001</td> <td>    6.605</td> <td>  -10.628</td> <td> 0.000</td> <td>  -83.186</td> <td>  -57.214</td>\n",
       "</tr>\n",
       "<tr>\n",
       "  <th>year</th>      <td>    1.2332</td> <td>    0.087</td> <td>   14.205</td> <td> 0.000</td> <td>    1.063</td> <td>    1.404</td>\n",
       "</tr>\n",
       "</table>\n",
       "<table class=\"simpletable\">\n",
       "<tr>\n",
       "  <th>Omnibus:</th>       <td>22.297</td> <th>  Durbin-Watson:     </th> <td>   0.772</td>\n",
       "</tr>\n",
       "<tr>\n",
       "  <th>Prob(Omnibus):</th> <td> 0.000</td> <th>  Jarque-Bera (JB):  </th> <td>  15.960</td>\n",
       "</tr>\n",
       "<tr>\n",
       "  <th>Skew:</th>          <td> 0.379</td> <th>  Prob(JB):          </th> <td>0.000342</td>\n",
       "</tr>\n",
       "<tr>\n",
       "  <th>Kurtosis:</th>      <td> 2.376</td> <th>  Cond. No.          </th> <td>1.57e+03</td>\n",
       "</tr>\n",
       "</table><br/><br/>Warnings:<br/>[1] Standard Errors assume that the covariance matrix of the errors is correctly specified.<br/>[2] The condition number is large, 1.57e+03. This might indicate that there are<br/>strong multicollinearity or other numerical problems."
      ],
      "text/plain": [
       "<class 'statsmodels.iolib.summary.Summary'>\n",
       "\"\"\"\n",
       "                            OLS Regression Results                            \n",
       "==============================================================================\n",
       "Dep. Variable:                    mpg   R-squared:                       0.338\n",
       "Model:                            OLS   Adj. R-squared:                  0.336\n",
       "Method:                 Least Squares   F-statistic:                     201.8\n",
       "Date:                Mon, 20 Jan 2020   Prob (F-statistic):           2.77e-37\n",
       "Time:                        23:45:22   Log-Likelihood:                -1297.7\n",
       "No. Observations:                 397   AIC:                             2599.\n",
       "Df Residuals:                     395   BIC:                             2607.\n",
       "Df Model:                           1                                         \n",
       "Covariance Type:            nonrobust                                         \n",
       "==============================================================================\n",
       "                 coef    std err          t      P>|t|      [0.025      0.975]\n",
       "------------------------------------------------------------------------------\n",
       "Intercept    -70.2001      6.605    -10.628      0.000     -83.186     -57.214\n",
       "year           1.2332      0.087     14.205      0.000       1.063       1.404\n",
       "==============================================================================\n",
       "Omnibus:                       22.297   Durbin-Watson:                   0.772\n",
       "Prob(Omnibus):                  0.000   Jarque-Bera (JB):               15.960\n",
       "Skew:                           0.379   Prob(JB):                     0.000342\n",
       "Kurtosis:                       2.376   Cond. No.                     1.57e+03\n",
       "==============================================================================\n",
       "\n",
       "Warnings:\n",
       "[1] Standard Errors assume that the covariance matrix of the errors is correctly specified.\n",
       "[2] The condition number is large, 1.57e+03. This might indicate that there are\n",
       "strong multicollinearity or other numerical problems.\n",
       "\"\"\""
      ]
     },
     "execution_count": 8,
     "metadata": {},
     "output_type": "execute_result"
    }
   ],
   "source": [
    "result.summary()"
   ]
  },
  {
   "cell_type": "code",
   "execution_count": null,
   "metadata": {},
   "outputs": [],
   "source": []
  }
 ],
 "metadata": {
  "kernelspec": {
   "display_name": "Python 3",
   "language": "python",
   "name": "python3"
  },
  "language_info": {
   "codemirror_mode": {
    "name": "ipython",
    "version": 3
   },
   "file_extension": ".py",
   "mimetype": "text/x-python",
   "name": "python",
   "nbconvert_exporter": "python",
   "pygments_lexer": "ipython3",
   "version": "3.7.3"
  }
 },
 "nbformat": 4,
 "nbformat_minor": 2
}
