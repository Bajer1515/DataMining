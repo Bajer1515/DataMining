{
 "cells": [
  {
   "cell_type": "code",
   "execution_count": 1,
   "metadata": {},
   "outputs": [],
   "source": [
    "import pandas as pd\n",
    "import numpy as np\n",
    "import matplotlib.pyplot as plt\n",
    "from sklearn.linear_model import LogisticRegression\n",
    "from sklearn.metrics import accuracy_score, log_loss, confusion_matrix\n",
    "#import seaborn as sns\n",
    "from patsy import dmatrices\n",
    "\n",
    "%matplotlib inline"
   ]
  },
  {
   "cell_type": "code",
   "execution_count": 2,
   "metadata": {},
   "outputs": [
    {
     "data": {
      "text/plain": [
       "Index(['Unnamed: 0', 'Income', 'Limit', 'Rating', 'Cards', 'Age', 'Education',\n",
       "       'Gender', 'Student', 'Married', 'Ethnicity', 'Balance'],\n",
       "      dtype='object')"
      ]
     },
     "execution_count": 2,
     "metadata": {},
     "output_type": "execute_result"
    }
   ],
   "source": [
    "df = pd.read_csv(\"Credit.csv\")\n",
    "df.columns"
   ]
  },
  {
   "cell_type": "markdown",
   "metadata": {},
   "source": [
    "1. Income greater than 50\n",
    "==============\n",
    "-------------------------"
   ]
  },
  {
   "cell_type": "code",
   "execution_count": 3,
   "metadata": {},
   "outputs": [],
   "source": [
    "df['incomeGreaterThan50'] = [ 1 if x > 50 else 0 for x in df['Income']]"
   ]
  },
  {
   "cell_type": "code",
   "execution_count": 4,
   "metadata": {},
   "outputs": [],
   "source": [
    "mask = np.random.rand(len(df)) < 0.8\n",
    "training = df[mask]\n",
    "validation = df[~mask]"
   ]
  },
  {
   "cell_type": "code",
   "execution_count": 5,
   "metadata": {},
   "outputs": [],
   "source": [
    "model_formula = 'incomeGreaterThan50 ~ Rating + Education + Ethnicity + Balance'\n",
    "yTrain, xTrain = dmatrices(model_formula, data=training, return_type='dataframe')\n",
    "yValid, xValid = dmatrices(model_formula, data=validation, return_type='dataframe')"
   ]
  },
  {
   "cell_type": "code",
   "execution_count": 6,
   "metadata": {},
   "outputs": [
    {
     "name": "stderr",
     "output_type": "stream",
     "text": [
      "C:\\ProgramData\\Anaconda3\\lib\\site-packages\\sklearn\\linear_model\\logistic.py:432: FutureWarning: Default solver will be changed to 'lbfgs' in 0.22. Specify a solver to silence this warning.\n",
      "  FutureWarning)\n"
     ]
    }
   ],
   "source": [
    "model = LogisticRegression(fit_intercept = False, C=1e9)\n",
    "yTrain = np.array(yTrain).reshape(len(yTrain),)\n",
    "result = model.fit(xTrain, yTrain)"
   ]
  },
  {
   "cell_type": "code",
   "execution_count": 7,
   "metadata": {},
   "outputs": [
    {
     "name": "stdout",
     "output_type": "stream",
     "text": [
      "Training accuracy:  0.937888198757764\n",
      "Training log-loss 0.19915459169965818\n",
      "Validation accuracy:  0.9487179487179487\n",
      "Confusion_matrix: \n",
      " [[52  1]\n",
      " [ 3 22]]\n"
     ]
    }
   ],
   "source": [
    "# accuracy of our prediction on validation set\n",
    "print(\"Training accuracy: \", accuracy_score(yTrain, model.predict(xTrain)))\n",
    "\n",
    "# Log_loss on validation set -> we use  model.predict_proba() \n",
    "print(\"Training log-loss\", log_loss(yTrain, model.predict_proba(xTrain)))\n",
    "\n",
    "# accuracy of our prediction on validation set\n",
    "print(\"Validation accuracy: \", accuracy_score(yValid, model.predict(xValid)))\n",
    "\n",
    "# accuracy of our prediction on validation set\n",
    "print(\"Confusion_matrix: \\n\", confusion_matrix(yValid, model.predict(xValid)))"
   ]
  },
  {
   "cell_type": "markdown",
   "metadata": {},
   "source": [
    "2. Credit card number\n",
    "=============\n",
    "----------------------"
   ]
  },
  {
   "cell_type": "code",
   "execution_count": 8,
   "metadata": {},
   "outputs": [],
   "source": [
    "model_formula = 'Cards ~ Limit + Rating + Income'\n",
    "yTrain, xTrain = dmatrices(model_formula, data=training, return_type='dataframe')\n",
    "yValid, xValid = dmatrices(model_formula, data=validation, return_type='dataframe')"
   ]
  },
  {
   "cell_type": "code",
   "execution_count": 9,
   "metadata": {},
   "outputs": [
    {
     "name": "stderr",
     "output_type": "stream",
     "text": [
      "C:\\ProgramData\\Anaconda3\\lib\\site-packages\\sklearn\\linear_model\\logistic.py:432: FutureWarning: Default solver will be changed to 'lbfgs' in 0.22. Specify a solver to silence this warning.\n",
      "  FutureWarning)\n",
      "C:\\ProgramData\\Anaconda3\\lib\\site-packages\\sklearn\\linear_model\\logistic.py:469: FutureWarning: Default multi_class will be changed to 'auto' in 0.22. Specify the multi_class option to silence this warning.\n",
      "  \"this warning.\", FutureWarning)\n"
     ]
    }
   ],
   "source": [
    "model = LogisticRegression(fit_intercept = False, C=1e9)\n",
    "yTrain = np.array(yTrain).reshape(len(yTrain),)\n",
    "result = model.fit(xTrain, yTrain)"
   ]
  },
  {
   "cell_type": "code",
   "execution_count": 10,
   "metadata": {},
   "outputs": [
    {
     "name": "stdout",
     "output_type": "stream",
     "text": [
      "Training accuracy:  0.36335403726708076\n",
      "Training log-loss 1.4930430128680048\n",
      "Validation accuracy:  0.32051282051282054\n",
      "Confusion_matrix: \n",
      " [[ 2  2  1  0  0  0  0  0]\n",
      " [ 0 11 10  0  0  0  1  0]\n",
      " [ 2  5 12  0  2  0  0  0]\n",
      " [ 0 10  9  0  1  0  0  0]\n",
      " [ 0  2  4  0  0  0  0  1]\n",
      " [ 0  0  2  0  0  0  0  0]\n",
      " [ 0  0  1  0  0  0  0  0]\n",
      " [ 0  0  0  0  0  0  0  0]]\n"
     ]
    }
   ],
   "source": [
    "# accuracy of our prediction on validation set\n",
    "print(\"Training accuracy: \", accuracy_score(yTrain, model.predict(xTrain)))\n",
    "\n",
    "# Log_loss on validation set -> we use  model.predict_proba() \n",
    "print(\"Training log-loss\", log_loss(yTrain, model.predict_proba(xTrain)))\n",
    "\n",
    "# accuracy of our prediction on validation set\n",
    "print(\"Validation accuracy: \", accuracy_score(yValid, model.predict(xValid)))\n",
    "\n",
    "# accuracy of our prediction on validation set\n",
    "print(\"Confusion_matrix: \\n\", confusion_matrix(yValid, model.predict(xValid)))"
   ]
  },
  {
   "cell_type": "code",
   "execution_count": 11,
   "metadata": {},
   "outputs": [
    {
     "data": {
      "text/plain": [
       "count    400.000000\n",
       "mean       2.957500\n",
       "std        1.371275\n",
       "min        1.000000\n",
       "25%        2.000000\n",
       "50%        3.000000\n",
       "75%        4.000000\n",
       "max        9.000000\n",
       "Name: Cards, dtype: float64"
      ]
     },
     "execution_count": 11,
     "metadata": {},
     "output_type": "execute_result"
    }
   ],
   "source": [
    "df['Cards'].describe()"
   ]
  },
  {
   "cell_type": "code",
   "execution_count": null,
   "metadata": {},
   "outputs": [],
   "source": []
  }
 ],
 "metadata": {
  "file_extension": ".py",
  "kernelspec": {
   "display_name": "Python 3",
   "language": "python",
   "name": "python3"
  },
  "language_info": {
   "codemirror_mode": {
    "name": "ipython",
    "version": 3
   },
   "file_extension": ".py",
   "mimetype": "text/x-python",
   "name": "python",
   "nbconvert_exporter": "python",
   "pygments_lexer": "ipython3",
   "version": "3.7.3"
  },
  "mimetype": "text/x-python",
  "name": "python",
  "npconvert_exporter": "python",
  "pygments_lexer": "ipython3",
  "version": 3
 },
 "nbformat": 4,
 "nbformat_minor": 2
}
